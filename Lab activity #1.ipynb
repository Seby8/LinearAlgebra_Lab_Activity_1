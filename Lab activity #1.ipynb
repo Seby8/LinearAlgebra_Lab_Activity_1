{
 "cells": [
  {
   "cell_type": "markdown",
   "metadata": {},
   "source": [
    "Coded and submitted by:\n",
    "Zarraga, Sebastian M.\n",
    "58010"
   ]
  },
  {
   "cell_type": "code",
   "execution_count": null,
   "metadata": {},
   "outputs": [],
   "source": [
    "party = ['Charmander', 'Pidgey', 'Sandshrew', 'Rattata', 'Abra']\n",
    "levels = [15, 11, 18, 5, 14]"
   ]
  },
  {
   "cell_type": "code",
   "execution_count": null,
   "metadata": {
    "scrolled": true
   },
   "outputs": [],
   "source": [
    "for P, L in zip(party, levels):\n",
    "    print(\"{} at level {}\".format(P, L))"
   ]
  },
  {
   "cell_type": "code",
   "execution_count": null,
   "metadata": {},
   "outputs": [],
   "source": [
    "reserves = [\n",
    "    ('Onix',10),\n",
    "    ('Slowpoke',18),\n",
    "    ('Dialga', 2),\n",
    "    ('Magikarp', 32),\n",
    "    ('Feebas', 22),\n",
    "    ('Swablu', 19),\n",
    "    ('Regigigas', 3),\n",
    "    ('Unown', 50)\n",
    "]"
   ]
  },
  {
   "cell_type": "code",
   "execution_count": null,
   "metadata": {},
   "outputs": [],
   "source": [
    "print([reserves[2][0], reserves[6][0], reserves[0][0]])"
   ]
  },
  {
   "cell_type": "code",
   "execution_count": null,
   "metadata": {},
   "outputs": [],
   "source": [
    "def create_party(party, candidates):\n",
    "    return suggested_parties"
   ]
  },
  {
   "cell_type": "code",
   "execution_count": null,
   "metadata": {},
   "outputs": [],
   "source": [
    "party1 = ['Charmander', 'Pidgey', 'Sandshrew', 'Rattata', 'Abra']\n",
    "party2 = ['Charmander', 'Pidgey', 'Sandshrew', 'Rattata', 'Abra']\n",
    "party3 = ['Charmander', 'Pidgey', 'Sandshrew', 'Rattata', 'Abra']\n",
    "\n",
    "party1.append(reserves[7][0])\n",
    "party2.append(reserves[3][0])\n",
    "party3.append(reserves[4][0])\n",
    "\n",
    "print(party1)\n",
    "print(party2)\n",
    "print(party3)"
   ]
  }
 ],
 "metadata": {
  "kernelspec": {
   "display_name": "Python 3",
   "language": "python",
   "name": "python3"
  },
  "language_info": {
   "codemirror_mode": {
    "name": "ipython",
    "version": 3
   },
   "file_extension": ".py",
   "mimetype": "text/x-python",
   "name": "python",
   "nbconvert_exporter": "python",
   "pygments_lexer": "ipython3",
   "version": "3.8.3"
  }
 },
 "nbformat": 4,
 "nbformat_minor": 4
}
